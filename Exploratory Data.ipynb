{
 "cells": [
  {
   "cell_type": "code",
   "execution_count": 4,
   "id": "3de7111f",
   "metadata": {},
   "outputs": [],
   "source": [
    "import numpy as np\n",
    "import pandas as pd\n",
    "import matplotlib.pyplot as plt\n",
    "%matplotlib inline"
   ]
  },
  {
   "cell_type": "code",
   "execution_count": 5,
   "id": "ab62f042",
   "metadata": {},
   "outputs": [
    {
     "data": {
      "text/html": [
       "<div>\n",
       "<style scoped>\n",
       "    .dataframe tbody tr th:only-of-type {\n",
       "        vertical-align: middle;\n",
       "    }\n",
       "\n",
       "    .dataframe tbody tr th {\n",
       "        vertical-align: top;\n",
       "    }\n",
       "\n",
       "    .dataframe thead th {\n",
       "        text-align: right;\n",
       "    }\n",
       "</style>\n",
       "<table border=\"1\" class=\"dataframe\">\n",
       "  <thead>\n",
       "    <tr style=\"text-align: right;\">\n",
       "      <th></th>\n",
       "      <th>Country</th>\n",
       "      <th>Region</th>\n",
       "      <th>Population</th>\n",
       "      <th>Under15</th>\n",
       "      <th>Over60</th>\n",
       "      <th>FertilityRate</th>\n",
       "      <th>LifeExpectancy</th>\n",
       "      <th>ChildMortality</th>\n",
       "      <th>CellularSubscribers</th>\n",
       "      <th>LiteracyRate</th>\n",
       "      <th>GNI</th>\n",
       "      <th>PrimarySchoolEnrollmentMale</th>\n",
       "      <th>PrimarySchoolEnrollmentFemale</th>\n",
       "    </tr>\n",
       "  </thead>\n",
       "  <tbody>\n",
       "    <tr>\n",
       "      <th>0</th>\n",
       "      <td>Afghanistan</td>\n",
       "      <td>Eastern Mediterranean</td>\n",
       "      <td>29825</td>\n",
       "      <td>47.42</td>\n",
       "      <td>3.82</td>\n",
       "      <td>5.40</td>\n",
       "      <td>60</td>\n",
       "      <td>98.5</td>\n",
       "      <td>54.26</td>\n",
       "      <td>NaN</td>\n",
       "      <td>1140.0</td>\n",
       "      <td>NaN</td>\n",
       "      <td>NaN</td>\n",
       "    </tr>\n",
       "    <tr>\n",
       "      <th>1</th>\n",
       "      <td>Albania</td>\n",
       "      <td>Europe</td>\n",
       "      <td>3162</td>\n",
       "      <td>21.33</td>\n",
       "      <td>14.93</td>\n",
       "      <td>1.75</td>\n",
       "      <td>74</td>\n",
       "      <td>16.7</td>\n",
       "      <td>96.39</td>\n",
       "      <td>NaN</td>\n",
       "      <td>8820.0</td>\n",
       "      <td>NaN</td>\n",
       "      <td>NaN</td>\n",
       "    </tr>\n",
       "    <tr>\n",
       "      <th>2</th>\n",
       "      <td>Algeria</td>\n",
       "      <td>Africa</td>\n",
       "      <td>38482</td>\n",
       "      <td>27.42</td>\n",
       "      <td>7.17</td>\n",
       "      <td>2.83</td>\n",
       "      <td>73</td>\n",
       "      <td>20.0</td>\n",
       "      <td>98.99</td>\n",
       "      <td>NaN</td>\n",
       "      <td>8310.0</td>\n",
       "      <td>98.2</td>\n",
       "      <td>96.4</td>\n",
       "    </tr>\n",
       "    <tr>\n",
       "      <th>3</th>\n",
       "      <td>Andorra</td>\n",
       "      <td>Europe</td>\n",
       "      <td>78</td>\n",
       "      <td>15.20</td>\n",
       "      <td>22.86</td>\n",
       "      <td>NaN</td>\n",
       "      <td>82</td>\n",
       "      <td>3.2</td>\n",
       "      <td>75.49</td>\n",
       "      <td>NaN</td>\n",
       "      <td>NaN</td>\n",
       "      <td>78.4</td>\n",
       "      <td>79.4</td>\n",
       "    </tr>\n",
       "    <tr>\n",
       "      <th>4</th>\n",
       "      <td>Angola</td>\n",
       "      <td>Africa</td>\n",
       "      <td>20821</td>\n",
       "      <td>47.58</td>\n",
       "      <td>3.84</td>\n",
       "      <td>6.10</td>\n",
       "      <td>51</td>\n",
       "      <td>163.5</td>\n",
       "      <td>48.38</td>\n",
       "      <td>70.1</td>\n",
       "      <td>5230.0</td>\n",
       "      <td>93.1</td>\n",
       "      <td>78.2</td>\n",
       "    </tr>\n",
       "  </tbody>\n",
       "</table>\n",
       "</div>"
      ],
      "text/plain": [
       "       Country                 Region  Population  Under15  Over60  \\\n",
       "0  Afghanistan  Eastern Mediterranean       29825    47.42    3.82   \n",
       "1      Albania                 Europe        3162    21.33   14.93   \n",
       "2      Algeria                 Africa       38482    27.42    7.17   \n",
       "3      Andorra                 Europe          78    15.20   22.86   \n",
       "4       Angola                 Africa       20821    47.58    3.84   \n",
       "\n",
       "   FertilityRate  LifeExpectancy  ChildMortality  CellularSubscribers  \\\n",
       "0           5.40              60            98.5                54.26   \n",
       "1           1.75              74            16.7                96.39   \n",
       "2           2.83              73            20.0                98.99   \n",
       "3            NaN              82             3.2                75.49   \n",
       "4           6.10              51           163.5                48.38   \n",
       "\n",
       "   LiteracyRate     GNI  PrimarySchoolEnrollmentMale  \\\n",
       "0           NaN  1140.0                          NaN   \n",
       "1           NaN  8820.0                          NaN   \n",
       "2           NaN  8310.0                         98.2   \n",
       "3           NaN     NaN                         78.4   \n",
       "4          70.1  5230.0                         93.1   \n",
       "\n",
       "   PrimarySchoolEnrollmentFemale  \n",
       "0                            NaN  \n",
       "1                            NaN  \n",
       "2                           96.4  \n",
       "3                           79.4  \n",
       "4                           78.2  "
      ]
     },
     "execution_count": 5,
     "metadata": {},
     "output_type": "execute_result"
    }
   ],
   "source": [
    "dataframe_draft = pd.read_csv(\"~/Downloads/data.csv\")\n",
    "dataframe_draft.head()"
   ]
  },
  {
   "cell_type": "markdown",
   "id": "a3b00362",
   "metadata": {},
   "source": [
    "# 1. Are there any missing values in the data set? What, if anything should be done about them if there are?\n",
    "\n",
    "### Answer>>> Yes there are missing values, in which they can be replace with ->fillna([any-int]) or be removed using ->dropna() "
   ]
  },
  {
   "cell_type": "markdown",
   "id": "84e837cf",
   "metadata": {},
   "source": [
    "# 2. Are there any other problems with the data? If so, fix them."
   ]
  },
  {
   "cell_type": "code",
   "execution_count": 6,
   "id": "38eeb88c",
   "metadata": {},
   "outputs": [],
   "source": [
    "dataframe = dataframe_draft.copy()\n"
   ]
  },
  {
   "cell_type": "markdown",
   "id": "f3dda2f9",
   "metadata": {},
   "source": [
    ">> Data Inspection: "
   ]
  },
  {
   "cell_type": "code",
   "execution_count": 7,
   "id": "c537e77b",
   "metadata": {},
   "outputs": [
    {
     "name": "stdout",
     "output_type": "stream",
     "text": [
      ">>> Is the data empty : False\n",
      "\n",
      ">>> Data shape is : (194, 13)\n",
      "\n",
      ">>> Data Columns : Index(['Country', 'Region', 'Population', 'Under15', 'Over60', 'FertilityRate',\n",
      "       'LifeExpectancy', 'ChildMortality', 'CellularSubscribers',\n",
      "       'LiteracyRate', 'GNI', 'PrimarySchoolEnrollmentMale',\n",
      "       'PrimarySchoolEnrollmentFemale'],\n",
      "      dtype='object')\n"
     ]
    }
   ],
   "source": [
    "print(\">>> Is the data empty :\",dataframe.empty)\n",
    "print()\n",
    "print(\">>> Data shape is :\", dataframe.shape)\n",
    "print()\n",
    "print(\">>> Data Columns :\", dataframe.columns)"
   ]
  },
  {
   "cell_type": "markdown",
   "id": "b3f1f95f",
   "metadata": {},
   "source": [
    "### Answer >>> From the above Inspection shows that there is nothing else wrong with our Data"
   ]
  },
  {
   "cell_type": "markdown",
   "id": "c99bfa54",
   "metadata": {},
   "source": [
    "# 3. Identify the country with the lowest % of their population under 15 and the one with the highest."
   ]
  },
  {
   "cell_type": "code",
   "execution_count": 8,
   "id": "7a16b413",
   "metadata": {},
   "outputs": [
    {
     "name": "stdout",
     "output_type": "stream",
     "text": [
      ">>> Row Index : [85, 123]\n"
     ]
    }
   ],
   "source": [
    "print(\">>> Row Index :\",[dataframe.Under15.idxmin(), dataframe.Under15.idxmax()])"
   ]
  },
  {
   "cell_type": "markdown",
   "id": "eaf4dfcf",
   "metadata": {},
   "source": [
    ">> The country with the lowest population under15 will be in row 85 and the highest in row 123"
   ]
  },
  {
   "cell_type": "code",
   "execution_count": 9,
   "id": "8bd6200b",
   "metadata": {},
   "outputs": [
    {
     "data": {
      "text/html": [
       "<div>\n",
       "<style scoped>\n",
       "    .dataframe tbody tr th:only-of-type {\n",
       "        vertical-align: middle;\n",
       "    }\n",
       "\n",
       "    .dataframe tbody tr th {\n",
       "        vertical-align: top;\n",
       "    }\n",
       "\n",
       "    .dataframe thead th {\n",
       "        text-align: right;\n",
       "    }\n",
       "</style>\n",
       "<table border=\"1\" class=\"dataframe\">\n",
       "  <thead>\n",
       "    <tr style=\"text-align: right;\">\n",
       "      <th></th>\n",
       "      <th>Country</th>\n",
       "      <th>Region</th>\n",
       "      <th>Population</th>\n",
       "      <th>Under15</th>\n",
       "      <th>Over60</th>\n",
       "      <th>FertilityRate</th>\n",
       "      <th>LifeExpectancy</th>\n",
       "      <th>ChildMortality</th>\n",
       "      <th>CellularSubscribers</th>\n",
       "      <th>LiteracyRate</th>\n",
       "      <th>GNI</th>\n",
       "      <th>PrimarySchoolEnrollmentMale</th>\n",
       "      <th>PrimarySchoolEnrollmentFemale</th>\n",
       "    </tr>\n",
       "  </thead>\n",
       "  <tbody>\n",
       "    <tr>\n",
       "      <th>85</th>\n",
       "      <td>Japan</td>\n",
       "      <td>Western Pacific</td>\n",
       "      <td>127000</td>\n",
       "      <td>13.12</td>\n",
       "      <td>31.92</td>\n",
       "      <td>1.39</td>\n",
       "      <td>83</td>\n",
       "      <td>3.0</td>\n",
       "      <td>104.95</td>\n",
       "      <td>NaN</td>\n",
       "      <td>35330.0</td>\n",
       "      <td>NaN</td>\n",
       "      <td>NaN</td>\n",
       "    </tr>\n",
       "    <tr>\n",
       "      <th>123</th>\n",
       "      <td>Niger</td>\n",
       "      <td>Africa</td>\n",
       "      <td>17157</td>\n",
       "      <td>49.99</td>\n",
       "      <td>4.26</td>\n",
       "      <td>7.58</td>\n",
       "      <td>56</td>\n",
       "      <td>113.5</td>\n",
       "      <td>29.52</td>\n",
       "      <td>NaN</td>\n",
       "      <td>720.0</td>\n",
       "      <td>64.2</td>\n",
       "      <td>52.0</td>\n",
       "    </tr>\n",
       "  </tbody>\n",
       "</table>\n",
       "</div>"
      ],
      "text/plain": [
       "    Country           Region  Population  Under15  Over60  FertilityRate  \\\n",
       "85    Japan  Western Pacific      127000    13.12   31.92           1.39   \n",
       "123   Niger           Africa       17157    49.99    4.26           7.58   \n",
       "\n",
       "     LifeExpectancy  ChildMortality  CellularSubscribers  LiteracyRate  \\\n",
       "85               83             3.0               104.95           NaN   \n",
       "123              56           113.5                29.52           NaN   \n",
       "\n",
       "         GNI  PrimarySchoolEnrollmentMale  PrimarySchoolEnrollmentFemale  \n",
       "85   35330.0                          NaN                            NaN  \n",
       "123    720.0                         64.2                           52.0  "
      ]
     },
     "execution_count": 9,
     "metadata": {},
     "output_type": "execute_result"
    }
   ],
   "source": [
    "dataframe.loc[\n",
    "    [dataframe.Under15.idxmin(), dataframe.Under15.idxmax()]\n",
    "]"
   ]
  },
  {
   "cell_type": "markdown",
   "id": "8840071f",
   "metadata": {},
   "source": [
    "### Answer >>> Country > Japan has the lowest under15 population\n",
    "### Answer >>> Country > Niger has the highest under15 population"
   ]
  },
  {
   "cell_type": "markdown",
   "id": "fd0e3363",
   "metadata": {},
   "source": [
    "# 4. Which region has the highest % of their population over 60?"
   ]
  },
  {
   "cell_type": "code",
   "execution_count": 10,
   "id": "e42e2ea7",
   "metadata": {},
   "outputs": [
    {
     "data": {
      "text/html": [
       "<div>\n",
       "<style scoped>\n",
       "    .dataframe tbody tr th:only-of-type {\n",
       "        vertical-align: middle;\n",
       "    }\n",
       "\n",
       "    .dataframe tbody tr th {\n",
       "        vertical-align: top;\n",
       "    }\n",
       "\n",
       "    .dataframe thead th {\n",
       "        text-align: right;\n",
       "    }\n",
       "</style>\n",
       "<table border=\"1\" class=\"dataframe\">\n",
       "  <thead>\n",
       "    <tr style=\"text-align: right;\">\n",
       "      <th></th>\n",
       "      <th>Country</th>\n",
       "      <th>Region</th>\n",
       "      <th>Population</th>\n",
       "      <th>Under15</th>\n",
       "      <th>Over60</th>\n",
       "      <th>FertilityRate</th>\n",
       "      <th>LifeExpectancy</th>\n",
       "      <th>ChildMortality</th>\n",
       "      <th>CellularSubscribers</th>\n",
       "      <th>LiteracyRate</th>\n",
       "      <th>GNI</th>\n",
       "      <th>PrimarySchoolEnrollmentMale</th>\n",
       "      <th>PrimarySchoolEnrollmentFemale</th>\n",
       "    </tr>\n",
       "  </thead>\n",
       "  <tbody>\n",
       "    <tr>\n",
       "      <th>85</th>\n",
       "      <td>Japan</td>\n",
       "      <td>Western Pacific</td>\n",
       "      <td>127000</td>\n",
       "      <td>13.12</td>\n",
       "      <td>31.92</td>\n",
       "      <td>1.39</td>\n",
       "      <td>83</td>\n",
       "      <td>3.0</td>\n",
       "      <td>104.95</td>\n",
       "      <td>NaN</td>\n",
       "      <td>35330.0</td>\n",
       "      <td>NaN</td>\n",
       "      <td>NaN</td>\n",
       "    </tr>\n",
       "  </tbody>\n",
       "</table>\n",
       "</div>"
      ],
      "text/plain": [
       "   Country           Region  Population  Under15  Over60  FertilityRate  \\\n",
       "85   Japan  Western Pacific      127000    13.12   31.92           1.39   \n",
       "\n",
       "    LifeExpectancy  ChildMortality  CellularSubscribers  LiteracyRate  \\\n",
       "85              83             3.0               104.95           NaN   \n",
       "\n",
       "        GNI  PrimarySchoolEnrollmentMale  PrimarySchoolEnrollmentFemale  \n",
       "85  35330.0                          NaN                            NaN  "
      ]
     },
     "execution_count": 10,
     "metadata": {},
     "output_type": "execute_result"
    }
   ],
   "source": [
    "dataframe.loc[\n",
    "    [dataframe.Over60.idxmax()]\n",
    "]"
   ]
  },
  {
   "cell_type": "markdown",
   "id": "c97f879a",
   "metadata": {},
   "source": [
    "### Answer>>> Country > Japan has the highest Over60 population"
   ]
  },
  {
   "cell_type": "markdown",
   "id": "d9d270c0",
   "metadata": {},
   "source": [
    "# 5. Does fertility decrease as income increases? Are there any countries that don’t seem to follow this relation?"
   ]
  },
  {
   "cell_type": "code",
   "execution_count": 15,
   "id": "45ff642a",
   "metadata": {},
   "outputs": [
    {
     "data": {
      "text/html": [
       "<div>\n",
       "<style scoped>\n",
       "    .dataframe tbody tr th:only-of-type {\n",
       "        vertical-align: middle;\n",
       "    }\n",
       "\n",
       "    .dataframe tbody tr th {\n",
       "        vertical-align: top;\n",
       "    }\n",
       "\n",
       "    .dataframe thead th {\n",
       "        text-align: right;\n",
       "    }\n",
       "</style>\n",
       "<table border=\"1\" class=\"dataframe\">\n",
       "  <thead>\n",
       "    <tr style=\"text-align: right;\">\n",
       "      <th></th>\n",
       "      <th>FertilityRate</th>\n",
       "      <th>GNI</th>\n",
       "    </tr>\n",
       "  </thead>\n",
       "  <tbody>\n",
       "    <tr>\n",
       "      <th>0</th>\n",
       "      <td>5.40</td>\n",
       "      <td>1140.0</td>\n",
       "    </tr>\n",
       "    <tr>\n",
       "      <th>1</th>\n",
       "      <td>1.75</td>\n",
       "      <td>8820.0</td>\n",
       "    </tr>\n",
       "    <tr>\n",
       "      <th>2</th>\n",
       "      <td>2.83</td>\n",
       "      <td>8310.0</td>\n",
       "    </tr>\n",
       "    <tr>\n",
       "      <th>3</th>\n",
       "      <td>NaN</td>\n",
       "      <td>NaN</td>\n",
       "    </tr>\n",
       "    <tr>\n",
       "      <th>4</th>\n",
       "      <td>6.10</td>\n",
       "      <td>5230.0</td>\n",
       "    </tr>\n",
       "  </tbody>\n",
       "</table>\n",
       "</div>"
      ],
      "text/plain": [
       "   FertilityRate     GNI\n",
       "0           5.40  1140.0\n",
       "1           1.75  8820.0\n",
       "2           2.83  8310.0\n",
       "3            NaN     NaN\n",
       "4           6.10  5230.0"
      ]
     },
     "execution_count": 15,
     "metadata": {},
     "output_type": "execute_result"
    }
   ],
   "source": [
    "fertility_vs_income = dataframe[[\"FertilityRate\", \"GNI\"]]\n",
    "fertility_vs_income.head()"
   ]
  },
  {
   "cell_type": "code",
   "execution_count": 68,
   "id": "4f2a4091",
   "metadata": {},
   "outputs": [
    {
     "data": {
      "text/plain": [
       "<matplotlib.collections.PathCollection at 0x7efd5310cf10>"
      ]
     },
     "execution_count": 68,
     "metadata": {},
     "output_type": "execute_result"
    },
    {
     "data": {
      "image/png": "[encoded data removed]",
      "text/plain": [
       "<Figure size 1500x600 with 1 Axes>"
      ]
     },
     "metadata": {
      "needs_background": "light"
     },
     "output_type": "display_data"
    }
   ],
   "source": [
    "fig = plt.figure(figsize=(10,4), dpi=150)\n",
    "\n",
    "fig.add_subplot()\n",
    "plt.title(\"fertility decrease vs income increases\")\n",
    "plt.xlabel(\"fertility\")\n",
    "plt.ylabel(\"GNI\")\n",
    "\n",
    "plt.scatter(dataframe[\"FertilityRate\"], dataframe[\"GNI\"])"
   ]
  },
  {
   "cell_type": "markdown",
   "id": "f2e6017b",
   "metadata": {},
   "source": [
    "### Answer >>> From the scatter graph it conveys a correlation that shows Income decreases as population Increases "
   ]
  },
  {
   "cell_type": "markdown",
   "id": "ce46ce4f",
   "metadata": {},
   "source": [
    "# 6. Which regions have the lowest literacy rates?"
   ]
  },
  {
   "cell_type": "code",
   "execution_count": 17,
   "id": "bc61c62c",
   "metadata": {},
   "outputs": [
    {
     "data": {
      "text/html": [
       "<div>\n",
       "<style scoped>\n",
       "    .dataframe tbody tr th:only-of-type {\n",
       "        vertical-align: middle;\n",
       "    }\n",
       "\n",
       "    .dataframe tbody tr th {\n",
       "        vertical-align: top;\n",
       "    }\n",
       "\n",
       "    .dataframe thead th {\n",
       "        text-align: right;\n",
       "    }\n",
       "</style>\n",
       "<table border=\"1\" class=\"dataframe\">\n",
       "  <thead>\n",
       "    <tr style=\"text-align: right;\">\n",
       "      <th></th>\n",
       "      <th>Country</th>\n",
       "      <th>Region</th>\n",
       "      <th>Population</th>\n",
       "      <th>Under15</th>\n",
       "      <th>Over60</th>\n",
       "      <th>FertilityRate</th>\n",
       "      <th>LifeExpectancy</th>\n",
       "      <th>ChildMortality</th>\n",
       "      <th>CellularSubscribers</th>\n",
       "      <th>LiteracyRate</th>\n",
       "      <th>GNI</th>\n",
       "      <th>PrimarySchoolEnrollmentMale</th>\n",
       "      <th>PrimarySchoolEnrollmentFemale</th>\n",
       "    </tr>\n",
       "  </thead>\n",
       "  <tbody>\n",
       "    <tr>\n",
       "      <th>104</th>\n",
       "      <td>Mali</td>\n",
       "      <td>Africa</td>\n",
       "      <td>14854</td>\n",
       "      <td>47.14</td>\n",
       "      <td>4.29</td>\n",
       "      <td>6.85</td>\n",
       "      <td>51</td>\n",
       "      <td>128.0</td>\n",
       "      <td>68.32</td>\n",
       "      <td>31.1</td>\n",
       "      <td>1040.0</td>\n",
       "      <td>70.6</td>\n",
       "      <td>60.8</td>\n",
       "    </tr>\n",
       "  </tbody>\n",
       "</table>\n",
       "</div>"
      ],
      "text/plain": [
       "    Country  Region  Population  Under15  Over60  FertilityRate  \\\n",
       "104    Mali  Africa       14854    47.14    4.29           6.85   \n",
       "\n",
       "     LifeExpectancy  ChildMortality  CellularSubscribers  LiteracyRate  \\\n",
       "104              51           128.0                68.32          31.1   \n",
       "\n",
       "        GNI  PrimarySchoolEnrollmentMale  PrimarySchoolEnrollmentFemale  \n",
       "104  1040.0                         70.6                           60.8  "
      ]
     },
     "execution_count": 17,
     "metadata": {},
     "output_type": "execute_result"
    }
   ],
   "source": [
    "dataframe.loc[\n",
    "    [dataframe.LiteracyRate.idxmin()]\n",
    "]"
   ]
  },
  {
   "cell_type": "markdown",
   "id": "b327d374",
   "metadata": {},
   "source": [
    "### Answer >>> Country = Mali, has the lowest literacy rate."
   ]
  },
  {
   "cell_type": "markdown",
   "id": "0dbdb2ed",
   "metadata": {},
   "source": [
    "# 7. Which regions have the lowest child mortality rates?"
   ]
  },
  {
   "cell_type": "code",
   "execution_count": 19,
   "id": "b5e666cd",
   "metadata": {},
   "outputs": [
    {
     "data": {
      "text/html": [
       "<div>\n",
       "<style scoped>\n",
       "    .dataframe tbody tr th:only-of-type {\n",
       "        vertical-align: middle;\n",
       "    }\n",
       "\n",
       "    .dataframe tbody tr th {\n",
       "        vertical-align: top;\n",
       "    }\n",
       "\n",
       "    .dataframe thead th {\n",
       "        text-align: right;\n",
       "    }\n",
       "</style>\n",
       "<table border=\"1\" class=\"dataframe\">\n",
       "  <thead>\n",
       "    <tr style=\"text-align: right;\">\n",
       "      <th></th>\n",
       "      <th>Country</th>\n",
       "      <th>Region</th>\n",
       "      <th>Population</th>\n",
       "      <th>Under15</th>\n",
       "      <th>Over60</th>\n",
       "      <th>FertilityRate</th>\n",
       "      <th>LifeExpectancy</th>\n",
       "      <th>ChildMortality</th>\n",
       "      <th>CellularSubscribers</th>\n",
       "      <th>LiteracyRate</th>\n",
       "      <th>GNI</th>\n",
       "      <th>PrimarySchoolEnrollmentMale</th>\n",
       "      <th>PrimarySchoolEnrollmentFemale</th>\n",
       "    </tr>\n",
       "  </thead>\n",
       "  <tbody>\n",
       "    <tr>\n",
       "      <th>99</th>\n",
       "      <td>Luxembourg</td>\n",
       "      <td>Europe</td>\n",
       "      <td>524</td>\n",
       "      <td>17.46</td>\n",
       "      <td>19.15</td>\n",
       "      <td>1.65</td>\n",
       "      <td>82</td>\n",
       "      <td>2.2</td>\n",
       "      <td>148.27</td>\n",
       "      <td>NaN</td>\n",
       "      <td>64260.0</td>\n",
       "      <td>93.6</td>\n",
       "      <td>95.7</td>\n",
       "    </tr>\n",
       "  </tbody>\n",
       "</table>\n",
       "</div>"
      ],
      "text/plain": [
       "       Country  Region  Population  Under15  Over60  FertilityRate  \\\n",
       "99  Luxembourg  Europe         524    17.46   19.15           1.65   \n",
       "\n",
       "    LifeExpectancy  ChildMortality  CellularSubscribers  LiteracyRate  \\\n",
       "99              82             2.2               148.27           NaN   \n",
       "\n",
       "        GNI  PrimarySchoolEnrollmentMale  PrimarySchoolEnrollmentFemale  \n",
       "99  64260.0                         93.6                           95.7  "
      ]
     },
     "execution_count": 19,
     "metadata": {},
     "output_type": "execute_result"
    }
   ],
   "source": [
    "dataframe.loc[\n",
    "    [dataframe.ChildMortality.idxmin()]\n",
    "]"
   ]
  },
  {
   "cell_type": "markdown",
   "id": "58443ae5",
   "metadata": {},
   "source": [
    "### Answer >>> Country = Luxembourg, has the lowest child mortality rate."
   ]
  },
  {
   "cell_type": "markdown",
   "id": "c1ba93fa",
   "metadata": {},
   "source": [
    "# 8. What is the life expectancy across different regions? Create a box-and-whisker plot to investigate this. What can we conclude about life expectancy across different regions?"
   ]
  },
  {
   "cell_type": "code",
   "execution_count": 20,
   "id": "b32e1f2a",
   "metadata": {},
   "outputs": [],
   "source": [
    "import seaborn as sns"
   ]
  },
  {
   "cell_type": "code",
   "execution_count": 71,
   "id": "7456e599",
   "metadata": {},
   "outputs": [
    {
     "data": {
      "text/plain": [
       "Text(0.5, 1.0, 'life expectancy across different regions')"
      ]
     },
     "execution_count": 71,
     "metadata": {},
     "output_type": "execute_result"
    },
    {
     "data": {
      "image/png": "[encoded data removed]",
      "text/plain": [
       "<Figure size 1080x504 with 1 Axes>"
      ]
     },
     "metadata": {
      "needs_background": "light"
     },
     "output_type": "display_data"
    }
   ],
   "source": [
    "plt.figure(figsize=(15, 7))\n",
    "box_and_whisker = sns.boxplot(x = dataframe.Region, y = dataframe.LifeExpectancy, data = dataframe).set_title(\"life expectancy across different regions\")\n",
    "box_and_whisker"
   ]
  },
  {
   "cell_type": "markdown",
   "id": "84e4e3ca",
   "metadata": {},
   "source": [
    "# 9. How is life expectancy related to wealth across different regions? How is wealth related to fertility across different regions? Do these relationships hold for African countries?"
   ]
  },
  {
   "cell_type": "code",
   "execution_count": 67,
   "id": "75121d19",
   "metadata": {},
   "outputs": [
    {
     "data": {
      "text/plain": [
       "<matplotlib.collections.PathCollection at 0x7efd531abdf0>"
      ]
     },
     "execution_count": 67,
     "metadata": {},
     "output_type": "execute_result"
    },
    {
     "data": {
      "image/png": "[encoded data removed]",
      "text/plain": [
       "<Figure size 1500x600 with 1 Axes>"
      ]
     },
     "metadata": {
      "needs_background": "light"
     },
     "output_type": "display_data"
    }
   ],
   "source": [
    "fig = plt.figure(figsize=(10,4), dpi=150)\n",
    "\n",
    "fig.add_subplot()\n",
    "plt.title(\"life expectancy related to wealth across different regions\")\n",
    "plt.xlabel(\"life expectancy\")\n",
    "plt.ylabel(\"wealth -> GNI\")\n",
    "\n",
    "plt.scatter(dataframe[\"LifeExpectancy\"], dataframe[\"GNI\"])"
   ]
  },
  {
   "cell_type": "markdown",
   "id": "c7becc07",
   "metadata": {},
   "source": [
    "### Answer -> life expectancy vs wealth conveys a correlation of a positive value and fertility vs wealth coveys a correlation of negative value and yes the results do hold for Africa"
   ]
  },
  {
   "cell_type": "markdown",
   "id": "d767b870",
   "metadata": {},
   "source": [
    "# 10. Create appropriate graphs to visually represent the relationship between literacy and life expectancy by region, and then for African countries. What can be concluded from the graphs? How confident can we be in the relationships represented here?"
   ]
  },
  {
   "cell_type": "code",
   "execution_count": 66,
   "id": "6c0a973f",
   "metadata": {},
   "outputs": [
    {
     "data": {
      "text/plain": [
       "<BarContainer object of 194 artists>"
      ]
     },
     "execution_count": 66,
     "metadata": {},
     "output_type": "execute_result"
    },
    {
     "data": {
      "image/png": "[encoded data removed]",
      "text/plain": [
       "<Figure size 1500x1800 with 1 Axes>"
      ]
     },
     "metadata": {
      "needs_background": "light"
     },
     "output_type": "display_data"
    }
   ],
   "source": [
    "fig = plt.figure(figsize=(10,12), dpi=150)\n",
    "\n",
    "fig.add_subplot()\n",
    "plt.title(\"relationship between literacy and life expectancy by region\")\n",
    "plt.xlabel(\"Region\")\n",
    "plt.ylabel(\"literacy and life expectancy\")\n",
    "\n",
    "plt.bar(dataframe[\"Region\"], dataframe[\"LifeExpectancy\"])\n",
    "plt.bar(dataframe[\"Region\"], dataframe[\"LiteracyRate\"], bottom = dataframe[\"LifeExpectancy\"])"
   ]
  },
  {
   "cell_type": "markdown",
   "id": "f0c2bb67",
   "metadata": {},
   "source": [
    "### Answer -> Afican countries has the lowest literacy and life expectancy."
   ]
  }
 ],
 "metadata": {
  "kernelspec": {
   "display_name": "Python 3 (ipykernel)",
   "language": "python",
   "name": "python3"
  },
  "language_info": {
   "codemirror_mode": {
    "name": "ipython",
    "version": 3
   },
   "file_extension": ".py",
   "mimetype": "text/x-python",
   "name": "python",
   "nbconvert_exporter": "python",
   "pygments_lexer": "ipython3",
   "version": "3.9.12"
  }
 },
 "nbformat": 4,
 "nbformat_minor": 5
}
